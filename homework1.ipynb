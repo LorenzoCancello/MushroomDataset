{
 "cells": [
  {
   "cell_type": "code",
   "execution_count": 21,
   "metadata": {},
   "outputs": [],
   "source": [
    "import sklearn\n",
    "import pandas as pd\n",
    "from sklearn import metrics\n",
    "from sklearn.preprocessing import LabelEncoder\n",
    "from sklearn.model_selection import train_test_split\n",
    "from sklearn.tree import DecisionTreeClassifier"
   ]
  },
  {
   "cell_type": "code",
   "execution_count": 22,
   "metadata": {},
   "outputs": [],
   "source": [
    "dataframe = pd.read_csv('mushroom_data_all.csv')\n",
    "dataframe2 = dataframe.copy()\n",
    "for col in dataframe2.columns.values:\n",
    "    dataframe2[col] = LabelEncoder().fit_transform(dataframe2[col])\n",
    "#print(data2.head())\n",
    "train, test = train_test_split(dataframe2)\n",
    "features = ['cap-shape', 'cap-surface', 'cap-color', 'bruises',\n",
    "       'odor', 'gill-attachment', 'gill-spacing', 'gill-size', 'gill-color',\n",
    "       'stalk-shape', 'stalk-root', 'stalk-surface-above-ring',\n",
    "       'stalk-surface-below-ring', 'stalk-color-above-ring',\n",
    "       'stalk-color-below-ring', 'veil-type', 'veil-color', 'ring-number',\n",
    "       'ring-type', 'spore-print-color', 'population', 'habitat']\n",
    "X_train = train[features]\n",
    "y_train = train['class_edible']\n",
    "X_test = test[features]\n",
    "y_test = test['class_edible']"
   ]
  },
  {
   "cell_type": "code",
   "execution_count": 23,
   "metadata": {},
   "outputs": [
    {
     "data": {
      "text/plain": [
       "DecisionTreeClassifier(random_state=1)"
      ]
     },
     "execution_count": 23,
     "metadata": {},
     "output_type": "execute_result"
    }
   ],
   "source": [
    "model = DecisionTreeClassifier (random_state=1)\n",
    "model.fit(X_train, y_train)"
   ]
  },
  {
   "cell_type": "code",
   "execution_count": 24,
   "metadata": {},
   "outputs": [
    {
     "name": "stdout",
     "output_type": "stream",
     "text": [
      "Accuratezza train: 1.0\n",
      "Accuratezza test: 1.0\n"
     ]
    }
   ],
   "source": [
    "train_predictions = model.predict(X_train)\n",
    "train_acc=metrics.accuracy_score(y_train,train_predictions)\n",
    "print('Accuratezza train: %s'  % train_acc)\n",
    "test_predictions = model.predict(X_test)\n",
    "test_acc=metrics.accuracy_score(y_test,test_predictions)\n",
    "print('Accuratezza test: %s'  % test_acc)"
   ]
  },
  {
   "cell_type": "code",
   "execution_count": 42,
   "metadata": {},
   "outputs": [
    {
     "name": "stdout",
     "output_type": "stream",
     "text": [
      "100%\n"
     ]
    }
   ],
   "source": [
    "print('%s%%' % int(test_acc*100))"
   ]
  }
 ],
 "metadata": {
  "kernelspec": {
   "display_name": "Python 3",
   "language": "python",
   "name": "python3"
  },
  "language_info": {
   "codemirror_mode": {
    "name": "ipython",
    "version": 3
   },
   "file_extension": ".py",
   "mimetype": "text/x-python",
   "name": "python",
   "nbconvert_exporter": "python",
   "pygments_lexer": "ipython3",
   "version": "3.8.2"
  }
 },
 "nbformat": 4,
 "nbformat_minor": 4
}
